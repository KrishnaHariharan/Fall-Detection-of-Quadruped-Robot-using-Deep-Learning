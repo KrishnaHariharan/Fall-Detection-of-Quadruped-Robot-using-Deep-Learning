{
 "cells": [
  {
   "cell_type": "code",
   "execution_count": 11,
   "id": "composite-parking",
   "metadata": {},
   "outputs": [],
   "source": [
    "import numpy as np #for numerical manipulations\n",
    "import pandas as pd #for data processing like opening csv files\n",
    "import os #to mention the directory where the dataset is stored\n",
    "import matplotlib.pyplot as plt\n",
    "import sys\n",
    "import os\n",
    "from keras.layers import *\n",
    "from keras.optimizers import *\n",
    "from keras.applications import *\n",
    "from keras.models import Model\n",
    "from keras.models import load_model\n",
    "from keras.preprocessing.image import ImageDataGenerator\n",
    "from keras.callbacks import ModelCheckpoint, EarlyStopping\n",
    "from keras import backend as k\n",
    "import keras"
   ]
  },
  {
   "cell_type": "markdown",
   "id": "serious-horror",
   "metadata": {},
   "source": [
    "All the necessary libraries are imported. Numpy is for numerical manipulations. Pandas are for\n",
    "dealing with csv files. MatplotLib is visualizing tool. keras is used here which is open source library\n",
    "for neural networks in python. ImageDataGenerator is used for Data augumentation. Optimizers will\n",
    "help us to find the global minima. Earlystopping is used to incase if we find that over a specific\n",
    "number of epoch the accuracy is not improving then the training could be stopped."
   ]
  },
  {
   "cell_type": "code",
   "execution_count": 12,
   "id": "composed-romantic",
   "metadata": {},
   "outputs": [],
   "source": [
    "from tensorflow import keras\n",
    "base_model = keras.applications.VGG16(weights='imagenet',input_shape=(224,224,3),include_top=False)"
   ]
  },
  {
   "cell_type": "markdown",
   "id": "veterinary-plain",
   "metadata": {},
   "source": [
    "VGG16 is the convolution neural network proposed in 2014. It is trained using imagenet dataset\n",
    "which roughly has 15million high resolution images belonging to 22,000 categories. We are doing\n",
    "Transfer Learning here. Using this model which was already trained with millions of data will help to\n",
    "make prediction accurately by not only depending on the dataset we have.\n",
    "We are giving include_top=False because VGG16 is a sequence of convolution layers with a dense\n",
    "layer at the end. By giving it as false we mean that we are dropping the dense layer alone. Instead of\n",
    "the dense layer which is already present we will model a full connected layer which will be\n",
    "connected to VGG16."
   ]
  },
  {
   "cell_type": "code",
   "execution_count": 13,
   "id": "variable-estate",
   "metadata": {
    "scrolled": false
   },
   "outputs": [
    {
     "name": "stdout",
     "output_type": "stream",
     "text": [
      "Model: \"vgg16\"\n",
      "_________________________________________________________________\n",
      "Layer (type)                 Output Shape              Param #   \n",
      "=================================================================\n",
      "input_3 (InputLayer)         [(None, 224, 224, 3)]     0         \n",
      "_________________________________________________________________\n",
      "block1_conv1 (Conv2D)        (None, 224, 224, 64)      1792      \n",
      "_________________________________________________________________\n",
      "block1_conv2 (Conv2D)        (None, 224, 224, 64)      36928     \n",
      "_________________________________________________________________\n",
      "block1_pool (MaxPooling2D)   (None, 112, 112, 64)      0         \n",
      "_________________________________________________________________\n",
      "block2_conv1 (Conv2D)        (None, 112, 112, 128)     73856     \n",
      "_________________________________________________________________\n",
      "block2_conv2 (Conv2D)        (None, 112, 112, 128)     147584    \n",
      "_________________________________________________________________\n",
      "block2_pool (MaxPooling2D)   (None, 56, 56, 128)       0         \n",
      "_________________________________________________________________\n",
      "block3_conv1 (Conv2D)        (None, 56, 56, 256)       295168    \n",
      "_________________________________________________________________\n",
      "block3_conv2 (Conv2D)        (None, 56, 56, 256)       590080    \n",
      "_________________________________________________________________\n",
      "block3_conv3 (Conv2D)        (None, 56, 56, 256)       590080    \n",
      "_________________________________________________________________\n",
      "block3_pool (MaxPooling2D)   (None, 28, 28, 256)       0         \n",
      "_________________________________________________________________\n",
      "block4_conv1 (Conv2D)        (None, 28, 28, 512)       1180160   \n",
      "_________________________________________________________________\n",
      "block4_conv2 (Conv2D)        (None, 28, 28, 512)       2359808   \n",
      "_________________________________________________________________\n",
      "block4_conv3 (Conv2D)        (None, 28, 28, 512)       2359808   \n",
      "_________________________________________________________________\n",
      "block4_pool (MaxPooling2D)   (None, 14, 14, 512)       0         \n",
      "_________________________________________________________________\n",
      "block5_conv1 (Conv2D)        (None, 14, 14, 512)       2359808   \n",
      "_________________________________________________________________\n",
      "block5_conv2 (Conv2D)        (None, 14, 14, 512)       2359808   \n",
      "_________________________________________________________________\n",
      "block5_conv3 (Conv2D)        (None, 14, 14, 512)       2359808   \n",
      "_________________________________________________________________\n",
      "block5_pool (MaxPooling2D)   (None, 7, 7, 512)         0         \n",
      "=================================================================\n",
      "Total params: 14,714,688\n",
      "Trainable params: 14,714,688\n",
      "Non-trainable params: 0\n",
      "_________________________________________________________________\n"
     ]
    }
   ],
   "source": [
    "base_model.summary()"
   ]
  },
  {
   "cell_type": "code",
   "execution_count": 14,
   "id": "satellite-leone",
   "metadata": {},
   "outputs": [],
   "source": [
    "base_model.trainable=False #freezing the model"
   ]
  },
  {
   "cell_type": "markdown",
   "id": "diverse-theory",
   "metadata": {},
   "source": [
    "Here we are freezing the base model which means that we are fixing the weights which are currently\n",
    "used and we cannot modify the weights of the base model any further."
   ]
  },
  {
   "cell_type": "code",
   "execution_count": 15,
   "id": "incredible-telescope",
   "metadata": {},
   "outputs": [],
   "source": [
    "inputs = Input(shape=(224,224,3)) #input layer is creared\n",
    "x = base_model(inputs, training=False) \n",
    "x = Flatten()(x) #Flattening Layer is added\n",
    "x = Dense(256, activation='relu')(x) #Adding a Hidden Layer with 256 neuron\n",
    "x = Dropout(0.5)(x) #adding a drop out layer\n",
    "outputs = Dense(2, activation='softmax')(x) #creating the output layer which is basicallu Idle / Fall\n",
    "model = Model(inputs,outputs) #creating the model"
   ]
  },
  {
   "cell_type": "markdown",
   "id": "historical-jewelry",
   "metadata": {},
   "source": [
    "Here we are creating our own model on top of the base model. Input layer is of size 224,224,3\n",
    "where 3 reprsents the RGB. A flatten layer is added which basically converts the 3d array of images\n",
    "into a 1D vector. A hidden layer with 256 neurons are created with relu as the activation function.\n",
    "With Deep Neural Network there are more chances that over fitting might occur considering the\n",
    "very minimal image data that we are going to train. Hence to avoid overfitting droput layer is added\n",
    "which randomly avoid certain neurons output so that balance is maintained. The output layer has 2\n",
    "neurons which basically is 2 classifications of our research project currently - Idle and Fall. A model is created by linking the input and the output."
   ]
  },
  {
   "cell_type": "code",
   "execution_count": 16,
   "id": "pregnant-alaska",
   "metadata": {},
   "outputs": [
    {
     "name": "stdout",
     "output_type": "stream",
     "text": [
      "Model: \"functional_3\"\n",
      "_________________________________________________________________\n",
      "Layer (type)                 Output Shape              Param #   \n",
      "=================================================================\n",
      "input_4 (InputLayer)         [(None, 224, 224, 3)]     0         \n",
      "_________________________________________________________________\n",
      "vgg16 (Functional)           (None, 7, 7, 512)         14714688  \n",
      "_________________________________________________________________\n",
      "flatten_1 (Flatten)          (None, 25088)             0         \n",
      "_________________________________________________________________\n",
      "dense_2 (Dense)              (None, 256)               6422784   \n",
      "_________________________________________________________________\n",
      "dropout_1 (Dropout)          (None, 256)               0         \n",
      "_________________________________________________________________\n",
      "dense_3 (Dense)              (None, 2)                 514       \n",
      "=================================================================\n",
      "Total params: 21,137,986\n",
      "Trainable params: 6,423,298\n",
      "Non-trainable params: 14,714,688\n",
      "_________________________________________________________________\n"
     ]
    }
   ],
   "source": [
    "model.summary()"
   ]
  },
  {
   "cell_type": "code",
   "execution_count": 17,
   "id": "funky-mills",
   "metadata": {},
   "outputs": [],
   "source": [
    "model.compile(loss='categorical_crossentropy',metrics=[\"accuracy\"],optimizer='nadam')"
   ]
  },
  {
   "cell_type": "markdown",
   "id": "senior-commitment",
   "metadata": {},
   "source": [
    "Here we are using categorical cross entropy as loss function since we will have output classification labels to be 3 which is Idle, Walking and Fall. Right now we are testing on two classifications which is basically idle and fall.  NADAM optimizer is used to find the global minima."
   ]
  },
  {
   "cell_type": "code",
   "execution_count": 18,
   "id": "still-norman",
   "metadata": {},
   "outputs": [],
   "source": [
    "from tensorflow.keras.preprocessing.image import ImageDataGenerator\n",
    "transformation_ratio = 0.05\n",
    "datagen = ImageDataGenerator(rescale=1./255,\n",
    "                            validation_split=0.2,\n",
    "                            rotation_range=transformation_ratio,\n",
    "                            shear_range=transformation_ratio,\n",
    "                            zoom_range=transformation_ratio,\n",
    "                            cval=transformation_ratio,\n",
    "                            horizontal_flip=True,\n",
    "                            vertical_flip=True)"
   ]
  },
  {
   "cell_type": "markdown",
   "id": "wound-valley",
   "metadata": {},
   "source": [
    "Data Augumentation is done here. Since the amount of dataset we have for each condition to train is 120, we are in need of more images for better accuracy. Hence, we are going with Image datagenerator which generates further more images from the same images by doing various process like flipping, zooming and much more"
   ]
  },
  {
   "cell_type": "code",
   "execution_count": 19,
   "id": "competitive-information",
   "metadata": {},
   "outputs": [
    {
     "name": "stdout",
     "output_type": "stream",
     "text": [
      "Found 193 images belonging to 2 classes.\n",
      "Found 48 images belonging to 2 classes.\n",
      "Found 60 images belonging to 2 classes.\n"
     ]
    }
   ],
   "source": [
    "from keras_preprocessing.image import ImageDataGenerator\n",
    "\n",
    "train_it = datagen.flow_from_directory(\"C:/Users/Hariharan/Desktop/VIT/Research/RBL2/Code/Dataset/Train\",\n",
    "                                        target_size=(224,224),\n",
    "                                        color_mode='rgb',\n",
    "                                        class_mode=\"categorical\",\n",
    "                                        batch_size=12,\n",
    "                                        subset=\"training\")\n",
    "val_it = datagen.flow_from_directory(\"C:/Users/Hariharan/Desktop/VIT/Research/RBL2/Code/Dataset/Train\",\n",
    "                                        target_size=(224,224),\n",
    "                                        color_mode='rgb',\n",
    "                                        class_mode=\"categorical\",\n",
    "                                        batch_size=12,\n",
    "                                        subset='validation')\n",
    "test_it = datagen.flow_from_directory(\"C:/Users/Hariharan/Desktop/VIT/Research/RBL2/Code/Dataset/Test\",\n",
    "                                        target_size=(224,224),\n",
    "                                        color_mode='rgb',\n",
    "                                        class_mode=\"categorical\",\n",
    "                                        )\n",
    "\n"
   ]
  },
  {
   "cell_type": "markdown",
   "id": "veterinary-breeding",
   "metadata": {},
   "source": [
    "Here we are loading the datasset from the directory in to seperate variable which will be served to our deep neural network to see how our model is able to make the prediction.\n",
    "\n",
    "A validation dataset is a sample of data held back from training your model that is used to give an estimate of model skill while tuning model’s hyperparameters. \n",
    "\n",
    "The validation dataset is different from the test dataset that is also held back from the training of the model, but is instead used to give an unbiased estimate of the skill of the final tuned model when comparing or selecting between final models."
   ]
  },
  {
   "cell_type": "code",
   "execution_count": 20,
   "id": "nutritional-journalism",
   "metadata": {},
   "outputs": [
    {
     "name": "stdout",
     "output_type": "stream",
     "text": [
      "\n",
      "Epoch 00001: val_accuracy improved from -inf to 0.62500, saving model to best_model.h5\n",
      "\n",
      "Epoch 00002: val_accuracy did not improve from 0.62500\n",
      "\n",
      "Epoch 00003: val_accuracy did not improve from 0.62500\n",
      "\n",
      "Epoch 00004: val_accuracy improved from 0.62500 to 0.95833, saving model to best_model.h5\n",
      "\n",
      "Epoch 00005: val_accuracy did not improve from 0.95833\n",
      "\n",
      "Epoch 00006: val_accuracy did not improve from 0.95833\n",
      "\n",
      "Epoch 00007: val_accuracy did not improve from 0.95833\n",
      "\n",
      "Epoch 00008: val_accuracy did not improve from 0.95833\n",
      "\n",
      "Epoch 00009: val_accuracy did not improve from 0.95833\n",
      "\n",
      "Epoch 00010: val_accuracy did not improve from 0.95833\n",
      "\n",
      "Epoch 00011: val_accuracy did not improve from 0.95833\n",
      "\n",
      "Epoch 00012: val_accuracy did not improve from 0.95833\n",
      "\n",
      "Epoch 00013: val_accuracy did not improve from 0.95833\n",
      "\n",
      "Epoch 00014: val_accuracy did not improve from 0.95833\n",
      "\n",
      "Epoch 00015: val_accuracy did not improve from 0.95833\n",
      "\n",
      "Epoch 00016: val_accuracy did not improve from 0.95833\n",
      "\n",
      "Epoch 00017: val_accuracy did not improve from 0.95833\n",
      "\n",
      "Epoch 00018: val_accuracy improved from 0.95833 to 1.00000, saving model to best_model.h5\n",
      "\n",
      "Epoch 00019: val_accuracy did not improve from 1.00000\n",
      "\n",
      "Epoch 00020: val_accuracy did not improve from 1.00000\n",
      "\n",
      "Epoch 00021: val_accuracy did not improve from 1.00000\n",
      "\n",
      "Epoch 00022: val_accuracy did not improve from 1.00000\n",
      "\n",
      "Epoch 00023: val_accuracy did not improve from 1.00000\n",
      "\n",
      "Epoch 00024: val_accuracy did not improve from 1.00000\n",
      "\n",
      "Epoch 00025: val_accuracy did not improve from 1.00000\n",
      "\n",
      "Epoch 00026: val_accuracy did not improve from 1.00000\n",
      "\n",
      "Epoch 00027: val_accuracy did not improve from 1.00000\n",
      "\n",
      "Epoch 00028: val_accuracy did not improve from 1.00000\n",
      "\n",
      "Epoch 00029: val_accuracy did not improve from 1.00000\n",
      "\n",
      "Epoch 00030: val_accuracy did not improve from 1.00000\n",
      "\n",
      "Epoch 00031: val_accuracy did not improve from 1.00000\n",
      "\n",
      "Epoch 00032: val_accuracy did not improve from 1.00000\n",
      "\n",
      "Epoch 00033: val_accuracy did not improve from 1.00000\n",
      "\n",
      "Epoch 00034: val_accuracy did not improve from 1.00000\n",
      "\n",
      "Epoch 00035: val_accuracy did not improve from 1.00000\n",
      "\n",
      "Epoch 00036: val_accuracy did not improve from 1.00000\n",
      "\n",
      "Epoch 00037: val_accuracy did not improve from 1.00000\n",
      "\n",
      "Epoch 00038: val_accuracy did not improve from 1.00000\n",
      "\n",
      "Epoch 00039: val_accuracy did not improve from 1.00000\n",
      "\n",
      "Epoch 00040: val_accuracy did not improve from 1.00000\n",
      "\n",
      "Epoch 00041: val_accuracy did not improve from 1.00000\n",
      "\n",
      "Epoch 00042: val_accuracy did not improve from 1.00000\n",
      "\n",
      "Epoch 00043: val_accuracy did not improve from 1.00000\n",
      "\n",
      "Epoch 00044: val_accuracy did not improve from 1.00000\n",
      "\n",
      "Epoch 00045: val_accuracy did not improve from 1.00000\n",
      "\n",
      "Epoch 00046: val_accuracy did not improve from 1.00000\n",
      "\n",
      "Epoch 00047: val_accuracy did not improve from 1.00000\n",
      "\n",
      "Epoch 00048: val_accuracy did not improve from 1.00000\n",
      "\n",
      "Epoch 00049: val_accuracy did not improve from 1.00000\n",
      "\n",
      "Epoch 00050: val_accuracy did not improve from 1.00000\n"
     ]
    }
   ],
   "source": [
    "es = EarlyStopping(monitor='val_loss', mode='min', verbose=1, patience=200)\n",
    "mc = ModelCheckpoint('best_model.h5', monitor='val_accuracy', mode='max', verbose=1, save_best_only=True)\n",
    "history = model.fit_generator(generator = train_it, \n",
    "                             steps_per_epoch = train_it.samples/train_it.batch_size,\n",
    "                             epochs = 50,\n",
    "                             validation_data = val_it,\n",
    "                             validation_steps = test_it.samples/test_it.batch_size,\n",
    "                             verbose=0, \n",
    "                             callbacks=[es, mc])\n",
    "saved_model = load_model('best_model.h5')\n"
   ]
  },
  {
   "cell_type": "code",
   "execution_count": 29,
   "id": "cooperative-reference",
   "metadata": {},
   "outputs": [
    {
     "name": "stdout",
     "output_type": "stream",
     "text": [
      "Test Error & Accuracy: [0.34943434596061707, 0.8833333253860474]\n"
     ]
    }
   ],
   "source": [
    "train_acc = saved_model.evaluate(train_it, verbose=0)\n",
    "test_acc = saved_model.evaluate(test_it, verbose=0)\n",
    "print('Test Error & Accuracy:',test_acc);\n"
   ]
  },
  {
   "cell_type": "code",
   "execution_count": 32,
   "id": "fresh-polish",
   "metadata": {},
   "outputs": [
    {
     "data": {
      "text/plain": [
       "<matplotlib.legend.Legend at 0x2753ef2a5e0>"
      ]
     },
     "execution_count": 32,
     "metadata": {},
     "output_type": "execute_result"
    },
    {
     "data": {
      "image/png": "[encoded data removed]",
      "text/plain": [
       "<Figure size 432x288 with 1 Axes>"
      ]
     },
     "metadata": {
      "needs_background": "light"
     },
     "output_type": "display_data"
    }
   ],
   "source": [
    "plt.plot(history.history['loss'])\n",
    "plt.plot(history.history['val_loss'])\n",
    "plt.title('Model Loss')\n",
    "plt.xlabel('Epochs')\n",
    "plt.ylabel('Loss')\n",
    "plt.legend(['loss','Val'], loc = 'upper left')"
   ]
  },
  {
   "cell_type": "code",
   "execution_count": 33,
   "id": "further-edward",
   "metadata": {},
   "outputs": [
    {
     "data": {
      "text/plain": [
       "<matplotlib.legend.Legend at 0x275405a80d0>"
      ]
     },
     "execution_count": 33,
     "metadata": {},
     "output_type": "execute_result"
    },
    {
     "data": {
      "image/png": "[encoded data removed]",
      "text/plain": [
       "<Figure size 432x288 with 1 Axes>"
      ]
     },
     "metadata": {
      "needs_background": "light"
     },
     "output_type": "display_data"
    }
   ],
   "source": [
    "plt.plot(history.history['accuracy'])\n",
    "plt.plot(history.history['val_accuracy'])\n",
    "plt.title('Model Accuracy')\n",
    "plt.xlabel('Epochs')\n",
    "plt.ylabel('Accuracy')\n",
    "plt.legend(['Acc','Val'], loc = 'upper left')"
   ]
  },
  {
   "cell_type": "code",
   "execution_count": null,
   "id": "revised-marina",
   "metadata": {},
   "outputs": [],
   "source": []
  }
 ],
 "metadata": {
  "kernelspec": {
   "display_name": "Python 3",
   "language": "python",
   "name": "python3"
  },
  "language_info": {
   "codemirror_mode": {
    "name": "ipython",
    "version": 3
   },
   "file_extension": ".py",
   "mimetype": "text/x-python",
   "name": "python",
   "nbconvert_exporter": "python",
   "pygments_lexer": "ipython3",
   "version": "3.8.5"
  }
 },
 "nbformat": 4,
 "nbformat_minor": 5
}
